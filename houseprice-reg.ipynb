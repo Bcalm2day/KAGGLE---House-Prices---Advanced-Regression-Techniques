{
 "cells": [
  {
   "cell_type": "code",
   "execution_count": 1,
   "id": "6f104037",
   "metadata": {
    "_cell_guid": "b1076dfc-b9ad-4769-8c92-a6c4dae69d19",
    "_uuid": "8f2839f25d086af736a60e9eeb907d3b93b6e0e5",
    "execution": {
     "iopub.execute_input": "2025-07-21T11:13:41.205390Z",
     "iopub.status.busy": "2025-07-21T11:13:41.205005Z",
     "iopub.status.idle": "2025-07-21T11:13:43.047910Z",
     "shell.execute_reply": "2025-07-21T11:13:43.046873Z"
    },
    "papermill": {
     "duration": 1.849844,
     "end_time": "2025-07-21T11:13:43.049379",
     "exception": false,
     "start_time": "2025-07-21T11:13:41.199535",
     "status": "completed"
    },
    "tags": []
   },
   "outputs": [
    {
     "name": "stdout",
     "output_type": "stream",
     "text": [
      "/kaggle/input/house-prices-advanced-regression-techniques/sample_submission.csv\n",
      "/kaggle/input/house-prices-advanced-regression-techniques/data_description.txt\n",
      "/kaggle/input/house-prices-advanced-regression-techniques/train.csv\n",
      "/kaggle/input/house-prices-advanced-regression-techniques/test.csv\n"
     ]
    }
   ],
   "source": [
    "# This Python 3 environment comes with many helpful analytics libraries installed\n",
    "# It is defined by the kaggle/python Docker image: https://github.com/kaggle/docker-python\n",
    "# For example, here's several helpful packages to load\n",
    "\n",
    "import numpy as np # linear algebra\n",
    "import pandas as pd # data processing, CSV file I/O (e.g. pd.read_csv)\n",
    "\n",
    "# Input data files are available in the read-only \"../input/\" directory\n",
    "# For example, running this (by clicking run or pressing Shift+Enter) will list all files under the input directory\n",
    "\n",
    "import os\n",
    "for dirname, _, filenames in os.walk('/kaggle/input'):\n",
    "    for filename in filenames:\n",
    "        print(os.path.join(dirname, filename))\n",
    "\n",
    "# You can write up to 20GB to the current directory (/kaggle/working/) that gets preserved as output when you create a version using \"Save & Run All\" \n",
    "# You can also write temporary files to /kaggle/temp/, but they won't be saved outside of the current session"
   ]
  },
  {
   "cell_type": "code",
   "execution_count": 2,
   "id": "751a0e4a",
   "metadata": {
    "execution": {
     "iopub.execute_input": "2025-07-21T11:13:43.058067Z",
     "iopub.status.busy": "2025-07-21T11:13:43.057686Z",
     "iopub.status.idle": "2025-07-21T11:13:43.135795Z",
     "shell.execute_reply": "2025-07-21T11:13:43.134836Z"
    },
    "papermill": {
     "duration": 0.084665,
     "end_time": "2025-07-21T11:13:43.137929",
     "exception": false,
     "start_time": "2025-07-21T11:13:43.053264",
     "status": "completed"
    },
    "tags": []
   },
   "outputs": [
    {
     "name": "stdout",
     "output_type": "stream",
     "text": [
      "<class 'pandas.core.frame.DataFrame'>\n",
      "RangeIndex: 1460 entries, 0 to 1459\n",
      "Data columns (total 81 columns):\n",
      " #   Column         Non-Null Count  Dtype  \n",
      "---  ------         --------------  -----  \n",
      " 0   Id             1460 non-null   int64  \n",
      " 1   MSSubClass     1460 non-null   int64  \n",
      " 2   MSZoning       1460 non-null   object \n",
      " 3   LotFrontage    1201 non-null   float64\n",
      " 4   LotArea        1460 non-null   int64  \n",
      " 5   Street         1460 non-null   object \n",
      " 6   Alley          91 non-null     object \n",
      " 7   LotShape       1460 non-null   object \n",
      " 8   LandContour    1460 non-null   object \n",
      " 9   Utilities      1460 non-null   object \n",
      " 10  LotConfig      1460 non-null   object \n",
      " 11  LandSlope      1460 non-null   object \n",
      " 12  Neighborhood   1460 non-null   object \n",
      " 13  Condition1     1460 non-null   object \n",
      " 14  Condition2     1460 non-null   object \n",
      " 15  BldgType       1460 non-null   object \n",
      " 16  HouseStyle     1460 non-null   object \n",
      " 17  OverallQual    1460 non-null   int64  \n",
      " 18  OverallCond    1460 non-null   int64  \n",
      " 19  YearBuilt      1460 non-null   int64  \n",
      " 20  YearRemodAdd   1460 non-null   int64  \n",
      " 21  RoofStyle      1460 non-null   object \n",
      " 22  RoofMatl       1460 non-null   object \n",
      " 23  Exterior1st    1460 non-null   object \n",
      " 24  Exterior2nd    1460 non-null   object \n",
      " 25  MasVnrType     588 non-null    object \n",
      " 26  MasVnrArea     1452 non-null   float64\n",
      " 27  ExterQual      1460 non-null   object \n",
      " 28  ExterCond      1460 non-null   object \n",
      " 29  Foundation     1460 non-null   object \n",
      " 30  BsmtQual       1423 non-null   object \n",
      " 31  BsmtCond       1423 non-null   object \n",
      " 32  BsmtExposure   1422 non-null   object \n",
      " 33  BsmtFinType1   1423 non-null   object \n",
      " 34  BsmtFinSF1     1460 non-null   int64  \n",
      " 35  BsmtFinType2   1422 non-null   object \n",
      " 36  BsmtFinSF2     1460 non-null   int64  \n",
      " 37  BsmtUnfSF      1460 non-null   int64  \n",
      " 38  TotalBsmtSF    1460 non-null   int64  \n",
      " 39  Heating        1460 non-null   object \n",
      " 40  HeatingQC      1460 non-null   object \n",
      " 41  CentralAir     1460 non-null   object \n",
      " 42  Electrical     1459 non-null   object \n",
      " 43  1stFlrSF       1460 non-null   int64  \n",
      " 44  2ndFlrSF       1460 non-null   int64  \n",
      " 45  LowQualFinSF   1460 non-null   int64  \n",
      " 46  GrLivArea      1460 non-null   int64  \n",
      " 47  BsmtFullBath   1460 non-null   int64  \n",
      " 48  BsmtHalfBath   1460 non-null   int64  \n",
      " 49  FullBath       1460 non-null   int64  \n",
      " 50  HalfBath       1460 non-null   int64  \n",
      " 51  BedroomAbvGr   1460 non-null   int64  \n",
      " 52  KitchenAbvGr   1460 non-null   int64  \n",
      " 53  KitchenQual    1460 non-null   object \n",
      " 54  TotRmsAbvGrd   1460 non-null   int64  \n",
      " 55  Functional     1460 non-null   object \n",
      " 56  Fireplaces     1460 non-null   int64  \n",
      " 57  FireplaceQu    770 non-null    object \n",
      " 58  GarageType     1379 non-null   object \n",
      " 59  GarageYrBlt    1379 non-null   float64\n",
      " 60  GarageFinish   1379 non-null   object \n",
      " 61  GarageCars     1460 non-null   int64  \n",
      " 62  GarageArea     1460 non-null   int64  \n",
      " 63  GarageQual     1379 non-null   object \n",
      " 64  GarageCond     1379 non-null   object \n",
      " 65  PavedDrive     1460 non-null   object \n",
      " 66  WoodDeckSF     1460 non-null   int64  \n",
      " 67  OpenPorchSF    1460 non-null   int64  \n",
      " 68  EnclosedPorch  1460 non-null   int64  \n",
      " 69  3SsnPorch      1460 non-null   int64  \n",
      " 70  ScreenPorch    1460 non-null   int64  \n",
      " 71  PoolArea       1460 non-null   int64  \n",
      " 72  PoolQC         7 non-null      object \n",
      " 73  Fence          281 non-null    object \n",
      " 74  MiscFeature    54 non-null     object \n",
      " 75  MiscVal        1460 non-null   int64  \n",
      " 76  MoSold         1460 non-null   int64  \n",
      " 77  YrSold         1460 non-null   int64  \n",
      " 78  SaleType       1460 non-null   object \n",
      " 79  SaleCondition  1460 non-null   object \n",
      " 80  SalePrice      1460 non-null   int64  \n",
      "dtypes: float64(3), int64(35), object(43)\n",
      "memory usage: 924.0+ KB\n"
     ]
    }
   ],
   "source": [
    "# Cargamos el dataframe en df\n",
    "df = pd.read_csv(\"/kaggle/input/house-prices-advanced-regression-techniques/train.csv\")\n",
    "df.info()"
   ]
  },
  {
   "cell_type": "code",
   "execution_count": 3,
   "id": "fdcbb0a3",
   "metadata": {
    "execution": {
     "iopub.execute_input": "2025-07-21T11:13:43.148629Z",
     "iopub.status.busy": "2025-07-21T11:13:43.148250Z",
     "iopub.status.idle": "2025-07-21T11:13:43.160502Z",
     "shell.execute_reply": "2025-07-21T11:13:43.159623Z"
    },
    "papermill": {
     "duration": 0.018358,
     "end_time": "2025-07-21T11:13:43.161947",
     "exception": false,
     "start_time": "2025-07-21T11:13:43.143589",
     "status": "completed"
    },
    "tags": []
   },
   "outputs": [
    {
     "data": {
      "text/plain": [
       "Id                 0\n",
       "MSSubClass         0\n",
       "MSZoning           0\n",
       "LotFrontage      259\n",
       "LotArea            0\n",
       "                ... \n",
       "MoSold             0\n",
       "YrSold             0\n",
       "SaleType           0\n",
       "SaleCondition      0\n",
       "SalePrice          0\n",
       "Length: 81, dtype: int64"
      ]
     },
     "execution_count": 3,
     "metadata": {},
     "output_type": "execute_result"
    }
   ],
   "source": [
    "# Exploramos el df buscando columnas con muchos NA\n",
    "df.isna().sum()"
   ]
  },
  {
   "cell_type": "code",
   "execution_count": 4,
   "id": "b97f8294",
   "metadata": {
    "execution": {
     "iopub.execute_input": "2025-07-21T11:13:43.172662Z",
     "iopub.status.busy": "2025-07-21T11:13:43.171772Z",
     "iopub.status.idle": "2025-07-21T11:13:43.196921Z",
     "shell.execute_reply": "2025-07-21T11:13:43.196076Z"
    },
    "papermill": {
     "duration": 0.032344,
     "end_time": "2025-07-21T11:13:43.198190",
     "exception": false,
     "start_time": "2025-07-21T11:13:43.165846",
     "status": "completed"
    },
    "tags": []
   },
   "outputs": [
    {
     "name": "stdout",
     "output_type": "stream",
     "text": [
      "Variables a eliminar por alta cantidad de NA:\n",
      "{'MiscFeature', 'PoolQC', 'MasVnrType', 'Fence', 'Alley', 'FireplaceQu'}\n"
     ]
    }
   ],
   "source": [
    "# Eliminamos columnas con demasiados NA (más del 40%)\n",
    "umbral = 0.4\n",
    "to_drop2 = set()\n",
    "for col in df:\n",
    "    if df[col].isna().mean() > umbral:\n",
    "        to_drop2.add(col)\n",
    "print(\"Variables a eliminar por alta cantidad de NA:\")\n",
    "print(to_drop2)\n",
    "df = df.drop(columns=list(to_drop2))"
   ]
  },
  {
   "cell_type": "code",
   "execution_count": 5,
   "id": "9cd02440",
   "metadata": {
    "execution": {
     "iopub.execute_input": "2025-07-21T11:13:43.207318Z",
     "iopub.status.busy": "2025-07-21T11:13:43.206792Z",
     "iopub.status.idle": "2025-07-21T11:13:43.256321Z",
     "shell.execute_reply": "2025-07-21T11:13:43.255573Z"
    },
    "papermill": {
     "duration": 0.055737,
     "end_time": "2025-07-21T11:13:43.257885",
     "exception": false,
     "start_time": "2025-07-21T11:13:43.202148",
     "status": "completed"
    },
    "tags": []
   },
   "outputs": [],
   "source": [
    "# Rellenamos NA con la media en vbles numericas y con la moda en categoricas\n",
    "for col in df:\n",
    "    if df[col].dtypes == \"int64\":\n",
    "        df[col] = df[col].fillna((df[col].mean()))\n",
    "    elif df[col].dtypes == \"float64\":\n",
    "        df[col] = df[col].fillna(df[col].mean())\n",
    "    elif df[col].dtypes == \"object\":\n",
    "        df[col] = df[col].fillna(df[col].mode().iloc[0])\n",
    "\n",
    "# Normalizamos las variables numericas excepto la objetivo\n",
    "df_num = df.drop([\"SalePrice\", \"Id\"], axis = 1)\n",
    "df_num = df_num.select_dtypes(include=['int64', 'float64'])\n",
    "df_num_norm = (df_num - df_num.min()) / (df_num.max() - df_num.min())\n",
    "df_num_norm = pd.concat([df_num_norm,df[[\"SalePrice\",\"Id\"]]], axis = 1)"
   ]
  },
  {
   "cell_type": "code",
   "execution_count": 6,
   "id": "5ef26598",
   "metadata": {
    "execution": {
     "iopub.execute_input": "2025-07-21T11:13:43.267013Z",
     "iopub.status.busy": "2025-07-21T11:13:43.266407Z",
     "iopub.status.idle": "2025-07-21T11:13:43.296248Z",
     "shell.execute_reply": "2025-07-21T11:13:43.295385Z"
    },
    "papermill": {
     "duration": 0.035898,
     "end_time": "2025-07-21T11:13:43.297626",
     "exception": false,
     "start_time": "2025-07-21T11:13:43.261728",
     "status": "completed"
    },
    "tags": []
   },
   "outputs": [
    {
     "name": "stdout",
     "output_type": "stream",
     "text": [
      "Variables a eliminar por alta correlación:\n",
      "{'1stFlrSF', 'TotRmsAbvGrd', 'GarageArea'}\n"
     ]
    }
   ],
   "source": [
    "# Se eliminan variables muy correlacionadas entre sí.\n",
    "\n",
    "import pandas as pd\n",
    "import numpy as np\n",
    "\n",
    "# 1. Calcular matriz de correlación solo con variables numéricas\n",
    "corr = df_num_norm.corr()\n",
    "\n",
    "# 2. Correlación absoluta con la variable objetivo 'SalePrice'\n",
    "corr_target = corr['SalePrice'].abs()\n",
    "\n",
    "# 3. Crear conjunto para guardar variables a eliminar\n",
    "to_drop = set()\n",
    "\n",
    "# 4. Iterar por pares de variables (solo la mitad superior de la matriz)\n",
    "for i in range(len(corr.columns)):\n",
    "    for j in range(i+1, len(corr.columns)):\n",
    "        var1 = corr.columns[i]\n",
    "        var2 = corr.columns[j]\n",
    "        val = corr.iloc[i, j]\n",
    "\n",
    "        # 5. Si están altamente correlacionadas (>|0.8|)\n",
    "        if abs(val) > 0.8:\n",
    "            # 6. Comparar su correlación con 'SalePrice' y eliminar la más débil\n",
    "            if corr_target[var1] < corr_target[var2]:\n",
    "                to_drop.add(var1)\n",
    "            else:\n",
    "                to_drop.add(var2)\n",
    "\n",
    "# 7. Mostrar las variables a eliminar\n",
    "print(\"Variables a eliminar por alta correlación:\")\n",
    "print(to_drop)\n",
    "\n",
    "# 8. Eliminar esas variables del DataFrame numerico normalizado\n",
    "df_num_norm = df_num_norm.drop(columns=list(to_drop))"
   ]
  },
  {
   "cell_type": "code",
   "execution_count": 7,
   "id": "44385842",
   "metadata": {
    "execution": {
     "iopub.execute_input": "2025-07-21T11:13:43.306801Z",
     "iopub.status.busy": "2025-07-21T11:13:43.306179Z",
     "iopub.status.idle": "2025-07-21T11:13:43.425644Z",
     "shell.execute_reply": "2025-07-21T11:13:43.424463Z"
    },
    "papermill": {
     "duration": 0.125534,
     "end_time": "2025-07-21T11:13:43.427111",
     "exception": false,
     "start_time": "2025-07-21T11:13:43.301577",
     "status": "completed"
    },
    "tags": []
   },
   "outputs": [
    {
     "name": "stdout",
     "output_type": "stream",
     "text": [
      "Variables a eliminar por alta frecuencia:\n",
      "{'BldgType', 'HeatingQC', 'Utilities', 'LotShape', 'RoofMatl', 'LotConfig', 'LandSlope', 'CentralAir', 'LandContour', 'Street', 'BsmtQual', 'Functional', 'Heating', 'Condition1', 'ExterCond', 'BsmtFinType2', 'Electrical', 'GarageQual', 'BsmtCond', 'RoofStyle', 'GarageCond', 'GarageFinish', 'Foundation', 'GarageType', 'SaleCondition', 'MSZoning', 'PavedDrive', 'HouseStyle', 'Condition2', 'ExterQual', 'SaleType', 'BsmtExposure', 'KitchenQual'}\n"
     ]
    }
   ],
   "source": [
    "# El conjunto de train solo tiene 1460 entradas y 37 variables object\n",
    "# Las 37 object se multiplicaran tras el one hot \n",
    "\n",
    "# Para tener suficientes grados de libertad habrá que hacer selección\n",
    "df_cat = df.select_dtypes(include=['object'])\n",
    "df_des = df_cat.describe(include= \"object\")\n",
    "\n",
    "# Se eliminan las categoricas con valor con frequencia superior a umbral (0.8)\n",
    "to_drop3 = set()\n",
    "for col in df_des:\n",
    "    if df_des[col].iloc[3]/len(df) > umbral:\n",
    "        to_drop3.add(col)\n",
    "print(\"Variables a eliminar por alta frecuencia:\")\n",
    "print(to_drop3)\n",
    "df_cat = df_cat.drop(columns=list(to_drop3))"
   ]
  },
  {
   "cell_type": "code",
   "execution_count": 8,
   "id": "2cc6958d",
   "metadata": {
    "execution": {
     "iopub.execute_input": "2025-07-21T11:13:43.436429Z",
     "iopub.status.busy": "2025-07-21T11:13:43.435846Z",
     "iopub.status.idle": "2025-07-21T11:13:43.441285Z",
     "shell.execute_reply": "2025-07-21T11:13:43.440441Z"
    },
    "papermill": {
     "duration": 0.011835,
     "end_time": "2025-07-21T11:13:43.442832",
     "exception": false,
     "start_time": "2025-07-21T11:13:43.430997",
     "status": "completed"
    },
    "tags": []
   },
   "outputs": [],
   "source": [
    "df_concat = pd.concat([df_num_norm, df_cat], axis = 1)"
   ]
  },
  {
   "cell_type": "code",
   "execution_count": 9,
   "id": "b1809269",
   "metadata": {
    "execution": {
     "iopub.execute_input": "2025-07-21T11:13:43.453312Z",
     "iopub.status.busy": "2025-07-21T11:13:43.453000Z",
     "iopub.status.idle": "2025-07-21T11:13:43.473543Z",
     "shell.execute_reply": "2025-07-21T11:13:43.472409Z"
    },
    "papermill": {
     "duration": 0.026828,
     "end_time": "2025-07-21T11:13:43.475054",
     "exception": false,
     "start_time": "2025-07-21T11:13:43.448226",
     "status": "completed"
    },
    "tags": []
   },
   "outputs": [
    {
     "name": "stdout",
     "output_type": "stream",
     "text": [
      "<class 'pandas.core.frame.DataFrame'>\n",
      "RangeIndex: 1460 entries, 0 to 1459\n",
      "Data columns (total 97 columns):\n",
      " #   Column                Non-Null Count  Dtype  \n",
      "---  ------                --------------  -----  \n",
      " 0   MSSubClass            1460 non-null   float64\n",
      " 1   LotFrontage           1460 non-null   float64\n",
      " 2   LotArea               1460 non-null   float64\n",
      " 3   OverallQual           1460 non-null   float64\n",
      " 4   OverallCond           1460 non-null   float64\n",
      " 5   YearBuilt             1460 non-null   float64\n",
      " 6   YearRemodAdd          1460 non-null   float64\n",
      " 7   MasVnrArea            1460 non-null   float64\n",
      " 8   BsmtFinSF1            1460 non-null   float64\n",
      " 9   BsmtFinSF2            1460 non-null   float64\n",
      " 10  BsmtUnfSF             1460 non-null   float64\n",
      " 11  TotalBsmtSF           1460 non-null   float64\n",
      " 12  2ndFlrSF              1460 non-null   float64\n",
      " 13  LowQualFinSF          1460 non-null   float64\n",
      " 14  GrLivArea             1460 non-null   float64\n",
      " 15  BsmtFullBath          1460 non-null   float64\n",
      " 16  BsmtHalfBath          1460 non-null   float64\n",
      " 17  FullBath              1460 non-null   float64\n",
      " 18  HalfBath              1460 non-null   float64\n",
      " 19  BedroomAbvGr          1460 non-null   float64\n",
      " 20  KitchenAbvGr          1460 non-null   float64\n",
      " 21  Fireplaces            1460 non-null   float64\n",
      " 22  GarageYrBlt           1460 non-null   float64\n",
      " 23  GarageCars            1460 non-null   float64\n",
      " 24  WoodDeckSF            1460 non-null   float64\n",
      " 25  OpenPorchSF           1460 non-null   float64\n",
      " 26  EnclosedPorch         1460 non-null   float64\n",
      " 27  3SsnPorch             1460 non-null   float64\n",
      " 28  ScreenPorch           1460 non-null   float64\n",
      " 29  PoolArea              1460 non-null   float64\n",
      " 30  MiscVal               1460 non-null   float64\n",
      " 31  MoSold                1460 non-null   float64\n",
      " 32  YrSold                1460 non-null   float64\n",
      " 33  SalePrice             1460 non-null   int64  \n",
      " 34  Id                    1460 non-null   int64  \n",
      " 35  Neighborhood_Blmngtn  1460 non-null   bool   \n",
      " 36  Neighborhood_Blueste  1460 non-null   bool   \n",
      " 37  Neighborhood_BrDale   1460 non-null   bool   \n",
      " 38  Neighborhood_BrkSide  1460 non-null   bool   \n",
      " 39  Neighborhood_ClearCr  1460 non-null   bool   \n",
      " 40  Neighborhood_CollgCr  1460 non-null   bool   \n",
      " 41  Neighborhood_Crawfor  1460 non-null   bool   \n",
      " 42  Neighborhood_Edwards  1460 non-null   bool   \n",
      " 43  Neighborhood_Gilbert  1460 non-null   bool   \n",
      " 44  Neighborhood_IDOTRR   1460 non-null   bool   \n",
      " 45  Neighborhood_MeadowV  1460 non-null   bool   \n",
      " 46  Neighborhood_Mitchel  1460 non-null   bool   \n",
      " 47  Neighborhood_NAmes    1460 non-null   bool   \n",
      " 48  Neighborhood_NPkVill  1460 non-null   bool   \n",
      " 49  Neighborhood_NWAmes   1460 non-null   bool   \n",
      " 50  Neighborhood_NoRidge  1460 non-null   bool   \n",
      " 51  Neighborhood_NridgHt  1460 non-null   bool   \n",
      " 52  Neighborhood_OldTown  1460 non-null   bool   \n",
      " 53  Neighborhood_SWISU    1460 non-null   bool   \n",
      " 54  Neighborhood_Sawyer   1460 non-null   bool   \n",
      " 55  Neighborhood_SawyerW  1460 non-null   bool   \n",
      " 56  Neighborhood_Somerst  1460 non-null   bool   \n",
      " 57  Neighborhood_StoneBr  1460 non-null   bool   \n",
      " 58  Neighborhood_Timber   1460 non-null   bool   \n",
      " 59  Neighborhood_Veenker  1460 non-null   bool   \n",
      " 60  Exterior1st_AsbShng   1460 non-null   bool   \n",
      " 61  Exterior1st_AsphShn   1460 non-null   bool   \n",
      " 62  Exterior1st_BrkComm   1460 non-null   bool   \n",
      " 63  Exterior1st_BrkFace   1460 non-null   bool   \n",
      " 64  Exterior1st_CBlock    1460 non-null   bool   \n",
      " 65  Exterior1st_CemntBd   1460 non-null   bool   \n",
      " 66  Exterior1st_HdBoard   1460 non-null   bool   \n",
      " 67  Exterior1st_ImStucc   1460 non-null   bool   \n",
      " 68  Exterior1st_MetalSd   1460 non-null   bool   \n",
      " 69  Exterior1st_Plywood   1460 non-null   bool   \n",
      " 70  Exterior1st_Stone     1460 non-null   bool   \n",
      " 71  Exterior1st_Stucco    1460 non-null   bool   \n",
      " 72  Exterior1st_VinylSd   1460 non-null   bool   \n",
      " 73  Exterior1st_Wd Sdng   1460 non-null   bool   \n",
      " 74  Exterior1st_WdShing   1460 non-null   bool   \n",
      " 75  Exterior2nd_AsbShng   1460 non-null   bool   \n",
      " 76  Exterior2nd_AsphShn   1460 non-null   bool   \n",
      " 77  Exterior2nd_Brk Cmn   1460 non-null   bool   \n",
      " 78  Exterior2nd_BrkFace   1460 non-null   bool   \n",
      " 79  Exterior2nd_CBlock    1460 non-null   bool   \n",
      " 80  Exterior2nd_CmentBd   1460 non-null   bool   \n",
      " 81  Exterior2nd_HdBoard   1460 non-null   bool   \n",
      " 82  Exterior2nd_ImStucc   1460 non-null   bool   \n",
      " 83  Exterior2nd_MetalSd   1460 non-null   bool   \n",
      " 84  Exterior2nd_Other     1460 non-null   bool   \n",
      " 85  Exterior2nd_Plywood   1460 non-null   bool   \n",
      " 86  Exterior2nd_Stone     1460 non-null   bool   \n",
      " 87  Exterior2nd_Stucco    1460 non-null   bool   \n",
      " 88  Exterior2nd_VinylSd   1460 non-null   bool   \n",
      " 89  Exterior2nd_Wd Sdng   1460 non-null   bool   \n",
      " 90  Exterior2nd_Wd Shng   1460 non-null   bool   \n",
      " 91  BsmtFinType1_ALQ      1460 non-null   bool   \n",
      " 92  BsmtFinType1_BLQ      1460 non-null   bool   \n",
      " 93  BsmtFinType1_GLQ      1460 non-null   bool   \n",
      " 94  BsmtFinType1_LwQ      1460 non-null   bool   \n",
      " 95  BsmtFinType1_Rec      1460 non-null   bool   \n",
      " 96  BsmtFinType1_Unf      1460 non-null   bool   \n",
      "dtypes: bool(62), float64(33), int64(2)\n",
      "memory usage: 487.7 KB\n"
     ]
    }
   ],
   "source": [
    "# Creamos las dummies de las categoricas\n",
    "dummies = pd.get_dummies(df_concat)\n",
    "dummies.info()"
   ]
  },
  {
   "cell_type": "code",
   "execution_count": 10,
   "id": "8541bb33",
   "metadata": {
    "execution": {
     "iopub.execute_input": "2025-07-21T11:13:43.484407Z",
     "iopub.status.busy": "2025-07-21T11:13:43.484103Z",
     "iopub.status.idle": "2025-07-21T11:15:12.421804Z",
     "shell.execute_reply": "2025-07-21T11:15:12.420703Z"
    },
    "papermill": {
     "duration": 88.947222,
     "end_time": "2025-07-21T11:15:12.426296",
     "exception": false,
     "start_time": "2025-07-21T11:13:43.479074",
     "status": "completed"
    },
    "tags": []
   },
   "outputs": [
    {
     "name": "stdout",
     "output_type": "stream",
     "text": [
      "The best model is:  SVR(C=100000, epsilon=1)\n",
      "With R2 value of:  0.844399301315549\n"
     ]
    }
   ],
   "source": [
    "# Creamos el modelo para entrenar\n",
    "# Quitamos Id del conjunto de datos\n",
    "x_train = dummies.drop(columns=['Id', \"SalePrice\"])\n",
    "y_train = dummies[\"SalePrice\"]\n",
    "\n",
    "# Creamos el modelo SVM de regresion\n",
    "from sklearn.svm import SVR\n",
    "svr = SVR()\n",
    "# Creamos el param_grid para un SVM de regresion\n",
    "param_grid = {\n",
    "    'C': [1000, 10000, 100000],\n",
    "    'epsilon': [0.01, 0.1, 0.5, 1],\n",
    "    'kernel': ['linear', 'rbf'],\n",
    "    'gamma': ['scale', 'auto']  # solo se aplica si kernel='rbf'\n",
    "}\n",
    "\n",
    "# Creamos el gridsearch\n",
    "from sklearn.model_selection import GridSearchCV\n",
    "grid_search = GridSearchCV(\n",
    "    estimator=svr,\n",
    "    param_grid=param_grid,\n",
    "    scoring='r2',\n",
    "    cv=5,\n",
    "    n_jobs=-1\n",
    ")\n",
    "\n",
    "grid_search.fit(x_train, y_train)\n",
    "\n",
    "best_model = grid_search.best_estimator_\n",
    "\n",
    "print(\"The best model is: \",best_model)\n",
    "print(\"With R2 value of: \",grid_search.best_score_)"
   ]
  },
  {
   "cell_type": "code",
   "execution_count": 11,
   "id": "e5888859",
   "metadata": {
    "execution": {
     "iopub.execute_input": "2025-07-21T11:15:12.436443Z",
     "iopub.status.busy": "2025-07-21T11:15:12.435699Z",
     "iopub.status.idle": "2025-07-21T11:15:12.502773Z",
     "shell.execute_reply": "2025-07-21T11:15:12.501862Z"
    },
    "papermill": {
     "duration": 0.073703,
     "end_time": "2025-07-21T11:15:12.504247",
     "exception": false,
     "start_time": "2025-07-21T11:15:12.430544",
     "status": "completed"
    },
    "tags": []
   },
   "outputs": [
    {
     "data": {
      "text/html": [
       "<div>\n",
       "<style scoped>\n",
       "    .dataframe tbody tr th:only-of-type {\n",
       "        vertical-align: middle;\n",
       "    }\n",
       "\n",
       "    .dataframe tbody tr th {\n",
       "        vertical-align: top;\n",
       "    }\n",
       "\n",
       "    .dataframe thead th {\n",
       "        text-align: right;\n",
       "    }\n",
       "</style>\n",
       "<table border=\"1\" class=\"dataframe\">\n",
       "  <thead>\n",
       "    <tr style=\"text-align: right;\">\n",
       "      <th></th>\n",
       "      <th>Id</th>\n",
       "      <th>MSSubClass</th>\n",
       "      <th>MSZoning</th>\n",
       "      <th>LotFrontage</th>\n",
       "      <th>LotArea</th>\n",
       "      <th>Street</th>\n",
       "      <th>Alley</th>\n",
       "      <th>LotShape</th>\n",
       "      <th>LandContour</th>\n",
       "      <th>Utilities</th>\n",
       "      <th>...</th>\n",
       "      <th>ScreenPorch</th>\n",
       "      <th>PoolArea</th>\n",
       "      <th>PoolQC</th>\n",
       "      <th>Fence</th>\n",
       "      <th>MiscFeature</th>\n",
       "      <th>MiscVal</th>\n",
       "      <th>MoSold</th>\n",
       "      <th>YrSold</th>\n",
       "      <th>SaleType</th>\n",
       "      <th>SaleCondition</th>\n",
       "    </tr>\n",
       "  </thead>\n",
       "  <tbody>\n",
       "    <tr>\n",
       "      <th>0</th>\n",
       "      <td>1461</td>\n",
       "      <td>20</td>\n",
       "      <td>RH</td>\n",
       "      <td>80.0</td>\n",
       "      <td>11622</td>\n",
       "      <td>Pave</td>\n",
       "      <td>NaN</td>\n",
       "      <td>Reg</td>\n",
       "      <td>Lvl</td>\n",
       "      <td>AllPub</td>\n",
       "      <td>...</td>\n",
       "      <td>120</td>\n",
       "      <td>0</td>\n",
       "      <td>NaN</td>\n",
       "      <td>MnPrv</td>\n",
       "      <td>NaN</td>\n",
       "      <td>0</td>\n",
       "      <td>6</td>\n",
       "      <td>2010</td>\n",
       "      <td>WD</td>\n",
       "      <td>Normal</td>\n",
       "    </tr>\n",
       "    <tr>\n",
       "      <th>1</th>\n",
       "      <td>1462</td>\n",
       "      <td>20</td>\n",
       "      <td>RL</td>\n",
       "      <td>81.0</td>\n",
       "      <td>14267</td>\n",
       "      <td>Pave</td>\n",
       "      <td>NaN</td>\n",
       "      <td>IR1</td>\n",
       "      <td>Lvl</td>\n",
       "      <td>AllPub</td>\n",
       "      <td>...</td>\n",
       "      <td>0</td>\n",
       "      <td>0</td>\n",
       "      <td>NaN</td>\n",
       "      <td>NaN</td>\n",
       "      <td>Gar2</td>\n",
       "      <td>12500</td>\n",
       "      <td>6</td>\n",
       "      <td>2010</td>\n",
       "      <td>WD</td>\n",
       "      <td>Normal</td>\n",
       "    </tr>\n",
       "    <tr>\n",
       "      <th>2</th>\n",
       "      <td>1463</td>\n",
       "      <td>60</td>\n",
       "      <td>RL</td>\n",
       "      <td>74.0</td>\n",
       "      <td>13830</td>\n",
       "      <td>Pave</td>\n",
       "      <td>NaN</td>\n",
       "      <td>IR1</td>\n",
       "      <td>Lvl</td>\n",
       "      <td>AllPub</td>\n",
       "      <td>...</td>\n",
       "      <td>0</td>\n",
       "      <td>0</td>\n",
       "      <td>NaN</td>\n",
       "      <td>MnPrv</td>\n",
       "      <td>NaN</td>\n",
       "      <td>0</td>\n",
       "      <td>3</td>\n",
       "      <td>2010</td>\n",
       "      <td>WD</td>\n",
       "      <td>Normal</td>\n",
       "    </tr>\n",
       "    <tr>\n",
       "      <th>3</th>\n",
       "      <td>1464</td>\n",
       "      <td>60</td>\n",
       "      <td>RL</td>\n",
       "      <td>78.0</td>\n",
       "      <td>9978</td>\n",
       "      <td>Pave</td>\n",
       "      <td>NaN</td>\n",
       "      <td>IR1</td>\n",
       "      <td>Lvl</td>\n",
       "      <td>AllPub</td>\n",
       "      <td>...</td>\n",
       "      <td>0</td>\n",
       "      <td>0</td>\n",
       "      <td>NaN</td>\n",
       "      <td>NaN</td>\n",
       "      <td>NaN</td>\n",
       "      <td>0</td>\n",
       "      <td>6</td>\n",
       "      <td>2010</td>\n",
       "      <td>WD</td>\n",
       "      <td>Normal</td>\n",
       "    </tr>\n",
       "    <tr>\n",
       "      <th>4</th>\n",
       "      <td>1465</td>\n",
       "      <td>120</td>\n",
       "      <td>RL</td>\n",
       "      <td>43.0</td>\n",
       "      <td>5005</td>\n",
       "      <td>Pave</td>\n",
       "      <td>NaN</td>\n",
       "      <td>IR1</td>\n",
       "      <td>HLS</td>\n",
       "      <td>AllPub</td>\n",
       "      <td>...</td>\n",
       "      <td>144</td>\n",
       "      <td>0</td>\n",
       "      <td>NaN</td>\n",
       "      <td>NaN</td>\n",
       "      <td>NaN</td>\n",
       "      <td>0</td>\n",
       "      <td>1</td>\n",
       "      <td>2010</td>\n",
       "      <td>WD</td>\n",
       "      <td>Normal</td>\n",
       "    </tr>\n",
       "  </tbody>\n",
       "</table>\n",
       "<p>5 rows × 80 columns</p>\n",
       "</div>"
      ],
      "text/plain": [
       "     Id  MSSubClass MSZoning  LotFrontage  LotArea Street Alley LotShape  \\\n",
       "0  1461          20       RH         80.0    11622   Pave   NaN      Reg   \n",
       "1  1462          20       RL         81.0    14267   Pave   NaN      IR1   \n",
       "2  1463          60       RL         74.0    13830   Pave   NaN      IR1   \n",
       "3  1464          60       RL         78.0     9978   Pave   NaN      IR1   \n",
       "4  1465         120       RL         43.0     5005   Pave   NaN      IR1   \n",
       "\n",
       "  LandContour Utilities  ... ScreenPorch PoolArea PoolQC  Fence MiscFeature  \\\n",
       "0         Lvl    AllPub  ...         120        0    NaN  MnPrv         NaN   \n",
       "1         Lvl    AllPub  ...           0        0    NaN    NaN        Gar2   \n",
       "2         Lvl    AllPub  ...           0        0    NaN  MnPrv         NaN   \n",
       "3         Lvl    AllPub  ...           0        0    NaN    NaN         NaN   \n",
       "4         HLS    AllPub  ...         144        0    NaN    NaN         NaN   \n",
       "\n",
       "  MiscVal MoSold  YrSold  SaleType  SaleCondition  \n",
       "0       0      6    2010        WD         Normal  \n",
       "1   12500      6    2010        WD         Normal  \n",
       "2       0      3    2010        WD         Normal  \n",
       "3       0      6    2010        WD         Normal  \n",
       "4       0      1    2010        WD         Normal  \n",
       "\n",
       "[5 rows x 80 columns]"
      ]
     },
     "execution_count": 11,
     "metadata": {},
     "output_type": "execute_result"
    }
   ],
   "source": [
    "# Hacemos prediccion\n",
    "# Cargamos los datos de test\n",
    "test = pd.read_csv(\"/kaggle/input/house-prices-advanced-regression-techniques/test.csv\")\n",
    "# Son 50% de datos de train y 50% de test\n",
    "test.head()"
   ]
  },
  {
   "cell_type": "code",
   "execution_count": 12,
   "id": "782a8ba6",
   "metadata": {
    "execution": {
     "iopub.execute_input": "2025-07-21T11:15:12.514274Z",
     "iopub.status.busy": "2025-07-21T11:15:12.513982Z",
     "iopub.status.idle": "2025-07-21T11:15:12.578801Z",
     "shell.execute_reply": "2025-07-21T11:15:12.577946Z"
    },
    "papermill": {
     "duration": 0.071557,
     "end_time": "2025-07-21T11:15:12.580305",
     "exception": false,
     "start_time": "2025-07-21T11:15:12.508748",
     "status": "completed"
    },
    "tags": []
   },
   "outputs": [],
   "source": [
    "# Realizamos las mismas transformaciones que sobre el conjunto de train\n",
    "ids = test['Id'].copy()\n",
    "for col in test:\n",
    "    if test[col].dtypes == \"int64\":\n",
    "        test[col] = test[col].fillna(test[col].mean())\n",
    "    elif test[col].dtypes == \"float64\":\n",
    "        test[col] = test[col].fillna(test[col].mean())\n",
    "    elif test[col].dtypes == \"object\":\n",
    "        test[col] = test[col].fillna(test[col].mode().iloc[0])\n",
    "\n",
    "# Se eliminan las variables que se eliminaron en train\n",
    "test = test.drop(columns=list(to_drop2))\n",
    "\n",
    "# Normalizamos las variables numericas\n",
    "test_num = test.select_dtypes(include=['int64', 'float64'])\n",
    "test_num_norm = (test_num - test_num.min()) / (test_num.max() - test_num.min())\n",
    "test_num_norm = test_num_norm.drop([\"Id\"], axis = 1)\n",
    "test_num_norm = test_num_norm.drop(columns=list(to_drop))\n",
    "test_num_norm = pd.concat([ids, test_num_norm], axis=1)\n",
    "\n",
    "# Filtramos las variables categoricas eliminadas en train\n",
    "test_cat = test.select_dtypes(include=['object'])\n",
    "test_cat = test_cat.drop(columns=list(to_drop3))"
   ]
  },
  {
   "cell_type": "code",
   "execution_count": 13,
   "id": "bb19497c",
   "metadata": {
    "execution": {
     "iopub.execute_input": "2025-07-21T11:15:12.590513Z",
     "iopub.status.busy": "2025-07-21T11:15:12.589949Z",
     "iopub.status.idle": "2025-07-21T11:15:12.595291Z",
     "shell.execute_reply": "2025-07-21T11:15:12.594538Z"
    },
    "papermill": {
     "duration": 0.012004,
     "end_time": "2025-07-21T11:15:12.596795",
     "exception": false,
     "start_time": "2025-07-21T11:15:12.584791",
     "status": "completed"
    },
    "tags": []
   },
   "outputs": [],
   "source": [
    "# Se concatenan ambos test,\n",
    "test_concat = pd.concat([test_num_norm, test_cat], axis = 1)"
   ]
  },
  {
   "cell_type": "code",
   "execution_count": 14,
   "id": "6206901e",
   "metadata": {
    "execution": {
     "iopub.execute_input": "2025-07-21T11:15:12.606823Z",
     "iopub.status.busy": "2025-07-21T11:15:12.606479Z",
     "iopub.status.idle": "2025-07-21T11:15:12.616948Z",
     "shell.execute_reply": "2025-07-21T11:15:12.615970Z"
    },
    "papermill": {
     "duration": 0.017357,
     "end_time": "2025-07-21T11:15:12.618543",
     "exception": false,
     "start_time": "2025-07-21T11:15:12.601186",
     "status": "completed"
    },
    "tags": []
   },
   "outputs": [],
   "source": [
    "dummies_test = pd.get_dummies(test_concat)"
   ]
  },
  {
   "cell_type": "code",
   "execution_count": 15,
   "id": "d335a0d0",
   "metadata": {
    "execution": {
     "iopub.execute_input": "2025-07-21T11:15:12.628655Z",
     "iopub.status.busy": "2025-07-21T11:15:12.627946Z",
     "iopub.status.idle": "2025-07-21T11:15:12.635104Z",
     "shell.execute_reply": "2025-07-21T11:15:12.634388Z"
    },
    "papermill": {
     "duration": 0.013735,
     "end_time": "2025-07-21T11:15:12.636656",
     "exception": false,
     "start_time": "2025-07-21T11:15:12.622921",
     "status": "completed"
    },
    "tags": []
   },
   "outputs": [],
   "source": [
    "# Alineamos train con test para que tengan la misma dimension\n",
    "dummies, dummies_test = dummies.align(dummies_test, join='left', axis=1, fill_value=0)"
   ]
  },
  {
   "cell_type": "code",
   "execution_count": 16,
   "id": "be5a8bf9",
   "metadata": {
    "execution": {
     "iopub.execute_input": "2025-07-21T11:15:12.647057Z",
     "iopub.status.busy": "2025-07-21T11:15:12.646220Z",
     "iopub.status.idle": "2025-07-21T11:15:12.651957Z",
     "shell.execute_reply": "2025-07-21T11:15:12.651159Z"
    },
    "papermill": {
     "duration": 0.012142,
     "end_time": "2025-07-21T11:15:12.653224",
     "exception": false,
     "start_time": "2025-07-21T11:15:12.641082",
     "status": "completed"
    },
    "tags": []
   },
   "outputs": [],
   "source": [
    "x_test = dummies_test.drop([\"SalePrice\",\"Id\"], axis = 1)"
   ]
  },
  {
   "cell_type": "code",
   "execution_count": 17,
   "id": "9b90d235",
   "metadata": {
    "execution": {
     "iopub.execute_input": "2025-07-21T11:15:12.663510Z",
     "iopub.status.busy": "2025-07-21T11:15:12.662909Z",
     "iopub.status.idle": "2025-07-21T11:15:12.936961Z",
     "shell.execute_reply": "2025-07-21T11:15:12.936002Z"
    },
    "papermill": {
     "duration": 0.280814,
     "end_time": "2025-07-21T11:15:12.938569",
     "exception": false,
     "start_time": "2025-07-21T11:15:12.657755",
     "status": "completed"
    },
    "tags": []
   },
   "outputs": [],
   "source": [
    "# Realizamos prediccion\n",
    "y_pred = best_model.predict(x_test)\n",
    "submit = pd.DataFrame()\n",
    "submit[\"Id\"] = test[\"Id\"]\n",
    "submit[\"SalePrice\"] = y_pred\n",
    "submit.to_csv(\"submission.csv\", index = False)"
   ]
  }
 ],
 "metadata": {
  "kaggle": {
   "accelerator": "none",
   "dataSources": [
    {
     "databundleVersionId": 868283,
     "sourceId": 5407,
     "sourceType": "competition"
    }
   ],
   "dockerImageVersionId": 31089,
   "isGpuEnabled": false,
   "isInternetEnabled": false,
   "language": "python",
   "sourceType": "notebook"
  },
  "kernelspec": {
   "display_name": "Python 3",
   "language": "python",
   "name": "python3"
  },
  "language_info": {
   "codemirror_mode": {
    "name": "ipython",
    "version": 3
   },
   "file_extension": ".py",
   "mimetype": "text/x-python",
   "name": "python",
   "nbconvert_exporter": "python",
   "pygments_lexer": "ipython3",
   "version": "3.11.13"
  },
  "papermill": {
   "default_parameters": {},
   "duration": 99.300379,
   "end_time": "2025-07-21T11:15:15.563707",
   "environment_variables": {},
   "exception": null,
   "input_path": "__notebook__.ipynb",
   "output_path": "__notebook__.ipynb",
   "parameters": {},
   "start_time": "2025-07-21T11:13:36.263328",
   "version": "2.6.0"
  }
 },
 "nbformat": 4,
 "nbformat_minor": 5
}
